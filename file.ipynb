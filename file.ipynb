{
 "cells": [
  {
   "cell_type": "code",
   "execution_count": 811,
   "metadata": {},
   "outputs": [],
   "source": [
    "import pandas as pd\n",
    "import numpy as np\n",
    "import matplotlib.pyplot as plt\n",
    "import seaborn as sns\n",
    "from sklearn.model_selection import train_test_split\n",
    "from sklearn.preprocessing import StandardScaler"
   ]
  },
  {
   "cell_type": "code",
   "execution_count": 812,
   "metadata": {},
   "outputs": [],
   "source": [
    "# Lecture du fichier\n",
    "df = pd.read_csv('air_quality_india.csv')"
   ]
  },
  {
   "cell_type": "code",
   "execution_count": 813,
   "metadata": {},
   "outputs": [
    {
     "data": {
      "text/html": [
       "<div>\n",
       "<style scoped>\n",
       "    .dataframe tbody tr th:only-of-type {\n",
       "        vertical-align: middle;\n",
       "    }\n",
       "\n",
       "    .dataframe tbody tr th {\n",
       "        vertical-align: top;\n",
       "    }\n",
       "\n",
       "    .dataframe thead th {\n",
       "        text-align: right;\n",
       "    }\n",
       "</style>\n",
       "<table border=\"1\" class=\"dataframe\">\n",
       "  <thead>\n",
       "    <tr style=\"text-align: right;\">\n",
       "      <th></th>\n",
       "      <th>Timestamp</th>\n",
       "      <th>Year</th>\n",
       "      <th>Month</th>\n",
       "      <th>Day</th>\n",
       "      <th>Hour</th>\n",
       "      <th>PM2.5</th>\n",
       "    </tr>\n",
       "  </thead>\n",
       "  <tbody>\n",
       "    <tr>\n",
       "      <th>0</th>\n",
       "      <td>2017-11-07 12:00:00</td>\n",
       "      <td>2017</td>\n",
       "      <td>11</td>\n",
       "      <td>7</td>\n",
       "      <td>12</td>\n",
       "      <td>64.51</td>\n",
       "    </tr>\n",
       "    <tr>\n",
       "      <th>1</th>\n",
       "      <td>2017-11-07 13:00:00</td>\n",
       "      <td>2017</td>\n",
       "      <td>11</td>\n",
       "      <td>7</td>\n",
       "      <td>13</td>\n",
       "      <td>69.95</td>\n",
       "    </tr>\n",
       "    <tr>\n",
       "      <th>2</th>\n",
       "      <td>2017-11-07 14:00:00</td>\n",
       "      <td>2017</td>\n",
       "      <td>11</td>\n",
       "      <td>7</td>\n",
       "      <td>14</td>\n",
       "      <td>92.79</td>\n",
       "    </tr>\n",
       "    <tr>\n",
       "      <th>3</th>\n",
       "      <td>2017-11-07 15:00:00</td>\n",
       "      <td>2017</td>\n",
       "      <td>11</td>\n",
       "      <td>7</td>\n",
       "      <td>15</td>\n",
       "      <td>109.66</td>\n",
       "    </tr>\n",
       "    <tr>\n",
       "      <th>4</th>\n",
       "      <td>2017-11-07 16:00:00</td>\n",
       "      <td>2017</td>\n",
       "      <td>11</td>\n",
       "      <td>7</td>\n",
       "      <td>16</td>\n",
       "      <td>116.50</td>\n",
       "    </tr>\n",
       "  </tbody>\n",
       "</table>\n",
       "</div>"
      ],
      "text/plain": [
       "             Timestamp  Year  Month  Day  Hour   PM2.5\n",
       "0  2017-11-07 12:00:00  2017     11    7    12   64.51\n",
       "1  2017-11-07 13:00:00  2017     11    7    13   69.95\n",
       "2  2017-11-07 14:00:00  2017     11    7    14   92.79\n",
       "3  2017-11-07 15:00:00  2017     11    7    15  109.66\n",
       "4  2017-11-07 16:00:00  2017     11    7    16  116.50"
      ]
     },
     "execution_count": 813,
     "metadata": {},
     "output_type": "execute_result"
    }
   ],
   "source": [
    "df.head()"
   ]
  },
  {
   "cell_type": "code",
   "execution_count": 814,
   "metadata": {},
   "outputs": [
    {
     "data": {
      "text/plain": [
       "(36192, 6)"
      ]
     },
     "execution_count": 814,
     "metadata": {},
     "output_type": "execute_result"
    }
   ],
   "source": [
    "df.shape"
   ]
  },
  {
   "cell_type": "code",
   "execution_count": 815,
   "metadata": {},
   "outputs": [
    {
     "name": "stdout",
     "output_type": "stream",
     "text": [
      "Nombre de valeurs manquantes par colonne:\n",
      "Timestamp    0\n",
      "Year         0\n",
      "Month        0\n",
      "Day          0\n",
      "Hour         0\n",
      "PM2.5        0\n",
      "dtype: int64\n"
     ]
    }
   ],
   "source": [
    "missing_values_all = df.isnull().sum()\n",
    "print(\"Nombre de valeurs manquantes par colonne:\")\n",
    "print(missing_values_all)"
   ]
  },
  {
   "cell_type": "code",
   "execution_count": 816,
   "metadata": {},
   "outputs": [],
   "source": [
    "file = df.drop('Timestamp', axis=1)"
   ]
  },
  {
   "cell_type": "code",
   "execution_count": 817,
   "metadata": {},
   "outputs": [
    {
     "data": {
      "text/plain": [
       "(36192, 6)"
      ]
     },
     "execution_count": 817,
     "metadata": {},
     "output_type": "execute_result"
    }
   ],
   "source": [
    "df.shape"
   ]
  },
  {
   "cell_type": "code",
   "execution_count": 818,
   "metadata": {},
   "outputs": [],
   "source": [
    "X = df[['Year', 'Month', 'Day', 'Hour']].values\n",
    "y = df['PM2.5'].values"
   ]
  },
  {
   "cell_type": "code",
   "execution_count": 819,
   "metadata": {},
   "outputs": [],
   "source": [
    "def calculer_moyenne(donnees):\n",
    "   \n",
    "    somme = 0\n",
    "    n = len(donnees)\n",
    "    for val in donnees:\n",
    "        somme += val\n",
    "    return somme / n"
   ]
  },
  {
   "cell_type": "code",
   "execution_count": 820,
   "metadata": {},
   "outputs": [],
   "source": [
    "def calculer_ecart_type(donnees):\n",
    "\n",
    "    moyenne = calculer_moyenne(donnees)\n",
    "    somme_carres = 0\n",
    "    for val in donnees:\n",
    "        somme_carres += (val - moyenne) ** 2\n",
    "    variance = somme_carres / len(donnees)\n",
    "    return (variance) ** 0.5"
   ]
  },
  {
   "cell_type": "code",
   "execution_count": 821,
   "metadata": {},
   "outputs": [],
   "source": [
    "# Extraire les colonnes pertinentes\n",
    "data = df[['Year', 'Month', 'Day', 'Hour', 'PM2.5']].values"
   ]
  },
  {
   "cell_type": "code",
   "execution_count": 822,
   "metadata": {},
   "outputs": [
    {
     "data": {
      "image/png": "[encoded data removed]",
      "text/plain": [
       "<Figure size 1000x600 with 1 Axes>"
      ]
     },
     "metadata": {},
     "output_type": "display_data"
    },
    {
     "name": "stdout",
     "output_type": "stream",
     "text": [
      "Statistiques calculées manuellement:\n",
      "Q1: 28.08\n",
      "Médiane: 45.73\n",
      "Q3: 64.52\n",
      "IQR: 36.44\n",
      "Moustache inférieure: 7.02\n",
      "Moustache supérieure: 119.18\n",
      "Nombre d'outliers: 378\n"
     ]
    }
   ],
   "source": [
    "# Trier les données\n",
    "sorted_data = np.sort(y)\n",
    "n = len(sorted_data)\n",
    "\n",
    "# 1. Calculer les quartiles manuellement\n",
    "Q1_idx = int(n * 0.25)\n",
    "Q2_idx = int(n * 0.5)  # médiane\n",
    "Q3_idx = int(n * 0.75)\n",
    "\n",
    "Q1 = sorted_data[Q1_idx]\n",
    "median = sorted_data[Q2_idx]\n",
    "Q3 = sorted_data[Q3_idx]\n",
    "\n",
    "# 2. Calculer l'IQR (Interquartile Range)\n",
    "IQR = Q3 - Q1\n",
    "\n",
    "# 3. Calculer les moustaches selon la formule donnée\n",
    "lower_whisker = max(np.min(sorted_data), Q1 - 1.5 * IQR)  # max(min, Q1 - 1.5*IQR)\n",
    "upper_whisker = min(np.max(sorted_data), Q3 + 1.5 * IQR)  # min(max, Q3 + 1.5*IQR)\n",
    "\n",
    "# 4. Identifier les outliers\n",
    "outliers = sorted_data[(sorted_data < lower_whisker) | (sorted_data > upper_whisker)]\n",
    "\n",
    "# 5. Créer le plot\n",
    "plt.figure(figsize=(10, 6))\n",
    "\n",
    "# Plot de la boîte\n",
    "box_positions = [1]  # position sur l'axe x\n",
    "box_width = 0.5\n",
    "\n",
    "# Plot la boîte centrale\n",
    "plt.vlines(1, Q1, Q3, color='blue', linewidth=2)  # lignes verticales de la boîte\n",
    "plt.hlines([Q1, Q3], 1-box_width/2, 1+box_width/2, color='blue', linewidth=2)  # bords horizontaux de la boîte\n",
    "plt.hlines(median, 1-box_width/2, 1+box_width/2, color='red', linewidth=2)  # ligne médiane\n",
    "\n",
    "# Plot les moustaches\n",
    "plt.vlines(1, lower_whisker, Q1, color='black', linestyle='-', linewidth=1)  # moustache inférieure\n",
    "plt.vlines(1, Q3, upper_whisker, color='black', linestyle='-', linewidth=1)  # moustache supérieure\n",
    "plt.hlines([lower_whisker, upper_whisker], 1-box_width/4, 1+box_width/4, color='black', linewidth=1)  # extrémités des moustaches\n",
    "\n",
    "# Plot les outliers\n",
    "if len(outliers) > 0:\n",
    "    plt.plot([1] * len(outliers), outliers, 'ro', alpha=0.5)\n",
    "\n",
    "# Ajustement des annotations pour éviter les chevauchements\n",
    "plt.text(1.25, Q1 - 1, f'Q1: {Q1:.2f}', fontsize=10, color='blue')  # Décalé légèrement vers le bas\n",
    "plt.text(1.25, median + 2, f'Médiane: {median:.2f}', fontsize=10, color='red')  # Décalé légèrement vers le haut\n",
    "plt.text(1.25, Q3 + 1, f'Q3: {Q3:.2f}', fontsize=10, color='blue')  # Décalé légèrement vers le haut\n",
    "plt.text(1.25, lower_whisker - 3, f'Moustache inf: {lower_whisker:.2f}', fontsize=9, color='black')  # Plus bas\n",
    "plt.text(1.25, upper_whisker + 5, f'Moustache sup: {upper_whisker:.2f}', fontsize=9, color='black')  # Décalé plus haut\n",
    "plt.text(1.25, np.mean([Q1, Q3]) - 3, f'IQR: {IQR:.2f}', fontsize=10, color='black')  # Légèrement en dessous pour éviter chevauchement avec la médiane\n",
    "\n",
    "# Gestion des outliers\n",
    "if len(outliers) > 0:\n",
    "    plt.text(1.25, min(outliers) - 5, f'Outliers: {len(outliers)}', fontsize=10, color='purple')  # Loin des moustaches\n",
    "else:\n",
    "    plt.text(1.25, lower_whisker - 5, 'Outliers: 0', fontsize=10, color='purple')  # Si pas d'outliers\n",
    "\n",
    "# Paramètres du graphique\n",
    "plt.title('Box Plot manuel des valeurs PM2.5')\n",
    "plt.ylabel('Concentration PM2.5')\n",
    "plt.ylim(min(sorted_data) - IQR/2, max(sorted_data) + IQR/2)  # ajuster l'échelle\n",
    "plt.xticks([1], ['PM2.5'])\n",
    "\n",
    "# Afficher le graphique\n",
    "plt.grid(True, alpha=0.3)\n",
    "plt.show()\n",
    "\n",
    "# Afficher les statistiques\n",
    "print(f\"Statistiques calculées manuellement:\")\n",
    "print(f\"Q1: {Q1:.2f}\")\n",
    "print(f\"Médiane: {median:.2f}\")\n",
    "print(f\"Q3: {Q3:.2f}\")\n",
    "print(f\"IQR: {IQR:.2f}\")\n",
    "print(f\"Moustache inférieure: {lower_whisker:.2f}\")\n",
    "print(f\"Moustache supérieure: {upper_whisker:.2f}\")\n",
    "print(f\"Nombre d'outliers: {len(outliers)}\")"
   ]
  },
  {
   "cell_type": "code",
   "execution_count": 823,
   "metadata": {},
   "outputs": [],
   "source": [
    "# Calculer les moyennes des colonnes\n",
    "means = np.array([calculer_moyenne(data[:, i]) for i in range(data.shape[1])])"
   ]
  },
  {
   "cell_type": "code",
   "execution_count": 824,
   "metadata": {},
   "outputs": [],
   "source": [
    "# Initialiser la matrice de corrélation\n",
    "n = data.shape[1]  # Nombre de colonnes\n",
    "correlation_matrix = np.zeros((n, n))"
   ]
  },
  {
   "cell_type": "code",
   "execution_count": 825,
   "metadata": {},
   "outputs": [],
   "source": [
    "# Calculer les corrélations manuellement\n",
    "for i in range(n):\n",
    "    for j in range(n):\n",
    "        # Numerateur : Covariance entre i et j\n",
    "        covariance = np.sum((data[:, i] - means[i]) * (data[:, j] - means[j]))\n",
    "        \n",
    "        # Dénominateur : Produit des écarts-types\n",
    "        std_i = np.sqrt(np.sum((data[:, i] - means[i])**2))\n",
    "        std_j = np.sqrt(np.sum((data[:, j] - means[j])**2))\n",
    "        \n",
    "        # Coefficient de corrélation\n",
    "        correlation_matrix[i, j] = covariance / (std_i * std_j)"
   ]
  },
  {
   "cell_type": "code",
   "execution_count": 826,
   "metadata": {},
   "outputs": [
    {
     "name": "stdout",
     "output_type": "stream",
     "text": [
      "Matrice de corrélation :\n",
      "['1.00', '-0.24', '0.01', '-0.00', '-0.22']\n",
      "['-0.24', '1.00', '0.01', '-0.00', '0.00']\n",
      "['0.01', '0.01', '1.00', '0.00', '-0.02']\n",
      "['-0.00', '-0.00', '0.00', '1.00', '0.05']\n",
      "['-0.22', '0.00', '-0.02', '0.05', '1.00']\n"
     ]
    }
   ],
   "source": [
    "# Afficher la matrice de corrélation\n",
    "print(\"Matrice de corrélation :\")\n",
    "for row in correlation_matrix:\n",
    "    print([\"{:.2f}\".format(x) for x in row])\n"
   ]
  },
  {
   "cell_type": "code",
   "execution_count": 827,
   "metadata": {},
   "outputs": [
    {
     "data": {
      "image/png": "[encoded data removed]",
      "text/plain": [
       "<Figure size 800x600 with 2 Axes>"
      ]
     },
     "metadata": {},
     "output_type": "display_data"
    }
   ],
   "source": [
    "# Visualisation avec matplotlib\n",
    "plt.figure(figsize=(8, 6))\n",
    "plt.imshow(correlation_matrix, cmap='coolwarm', interpolation='nearest')\n",
    "plt.colorbar(label='Coefficient de corrélation')\n",
    "plt.title('Matrice de corrélation')\n",
    "\n",
    "# Ajouter les labels des colonnes\n",
    "labels = ['Year', 'Month', 'Day', 'Hour', 'PM2.5']\n",
    "plt.xticks(ticks=np.arange(n), labels=labels, rotation=45)\n",
    "plt.yticks(ticks=np.arange(n), labels=labels)\n",
    "\n",
    "# Ajouter les valeurs dans la matrice\n",
    "for i in range(n):\n",
    "    for j in range(n):\n",
    "        plt.text(j, i, f\"{correlation_matrix[i, j]:.2f}\",\n",
    "                 ha='center', va='center', color='black')\n",
    "\n",
    "plt.tight_layout()\n",
    "plt.show()"
   ]
  },
  {
   "cell_type": "code",
   "execution_count": 828,
   "metadata": {},
   "outputs": [],
   "source": [
    "import numpy as np\n",
    "\n",
    "def manual_k_fold(X, y, n_splits=10, shuffle=True):\n",
    "    \"\"\"\n",
    "    Implémentation manuelle de la validation croisée K-Fold sans utiliser append.\n",
    "    Paramètres :\n",
    "        X (numpy array) : Les features (données indépendantes).\n",
    "        y (numpy array) : La cible (donnée dépendante).\n",
    "        n_splits (int) : Le nombre de folds.\n",
    "        shuffle (bool) : Si True, les données seront mélangées avant d'être divisées.\n",
    "    Retourne :\n",
    "        Un tableau numpy de tuples (train_indices, test_indices) pour chaque fold.\n",
    "    \"\"\"\n",
    "    n_samples = len(X)\n",
    "    indices = np.arange(n_samples)\n",
    "    \n",
    "    if shuffle:\n",
    "        np.random.shuffle(indices)\n",
    "    \n",
    "    # Pré-allouer le tableau de résultats\n",
    "    folds = np.empty(n_splits, dtype=object)\n",
    "    \n",
    "    # Calculer la taille de base des folds et le reste\n",
    "    fold_size = n_samples // n_splits\n",
    "    remainder = n_samples % n_splits\n",
    "    \n",
    "    # Variables pour suivre la position courante\n",
    "    current = 0\n",
    "    \n",
    "    # Créer un masque booléen pour la sélection des indices\n",
    "    for i in range(n_splits):\n",
    "        # Ajuster la taille du fold si nécessaire\n",
    "        current_fold_size = fold_size + (1 if i < remainder else 0)\n",
    "        \n",
    "        # Créer un masque pour les indices de test\n",
    "        test_mask = np.zeros(n_samples, dtype=bool)\n",
    "        test_mask[current:current + current_fold_size] = True\n",
    "        \n",
    "        # Sélectionner les indices\n",
    "        test_indices = indices[test_mask]\n",
    "        train_indices = indices[~test_mask]\n",
    "        \n",
    "        # Stocker les indices dans le tableau pré-alloué\n",
    "        folds[i] = (train_indices, test_indices)\n",
    "        \n",
    "        # Mettre à jour la position courante\n",
    "        current += current_fold_size\n",
    "    \n",
    "    return folds"
   ]
  },
  {
   "cell_type": "code",
   "execution_count": 829,
   "metadata": {},
   "outputs": [
    {
     "name": "stdout",
     "output_type": "stream",
     "text": [
      "Fold 1:\n",
      "  Train set: X_train shape = (32572, 4), y_train shape = (32572,)\n",
      "  Test set: X_test shape = (3620, 4), y_test shape = (3620,)\n",
      "----------------------------------------\n",
      "Fold 2:\n",
      "  Train set: X_train shape = (32572, 4), y_train shape = (32572,)\n",
      "  Test set: X_test shape = (3620, 4), y_test shape = (3620,)\n",
      "----------------------------------------\n",
      "Fold 3:\n",
      "  Train set: X_train shape = (32573, 4), y_train shape = (32573,)\n",
      "  Test set: X_test shape = (3619, 4), y_test shape = (3619,)\n",
      "----------------------------------------\n",
      "Fold 4:\n",
      "  Train set: X_train shape = (32573, 4), y_train shape = (32573,)\n",
      "  Test set: X_test shape = (3619, 4), y_test shape = (3619,)\n",
      "----------------------------------------\n",
      "Fold 5:\n",
      "  Train set: X_train shape = (32573, 4), y_train shape = (32573,)\n",
      "  Test set: X_test shape = (3619, 4), y_test shape = (3619,)\n",
      "----------------------------------------\n",
      "Fold 6:\n",
      "  Train set: X_train shape = (32573, 4), y_train shape = (32573,)\n",
      "  Test set: X_test shape = (3619, 4), y_test shape = (3619,)\n",
      "----------------------------------------\n",
      "Fold 7:\n",
      "  Train set: X_train shape = (32573, 4), y_train shape = (32573,)\n",
      "  Test set: X_test shape = (3619, 4), y_test shape = (3619,)\n",
      "----------------------------------------\n",
      "Fold 8:\n",
      "  Train set: X_train shape = (32573, 4), y_train shape = (32573,)\n",
      "  Test set: X_test shape = (3619, 4), y_test shape = (3619,)\n",
      "----------------------------------------\n",
      "Fold 9:\n",
      "  Train set: X_train shape = (32573, 4), y_train shape = (32573,)\n",
      "  Test set: X_test shape = (3619, 4), y_test shape = (3619,)\n",
      "----------------------------------------\n",
      "Fold 10:\n",
      "  Train set: X_train shape = (32573, 4), y_train shape = (32573,)\n",
      "  Test set: X_test shape = (3619, 4), y_test shape = (3619,)\n",
      "----------------------------------------\n"
     ]
    }
   ],
   "source": [
    "# Initialiser le nombre de folds\n",
    "n_splits = 10\n",
    "\n",
    "    # Obtenir les indices pour chaque fold en utilisant notre fonction manuelle\n",
    "folds = manual_k_fold(X, y, n_splits=10, shuffle=True)\n",
    "\n",
    "    # Variables pour stocker les résultats\n",
    "fold = 1  # Compteur de folds\n",
    "\n",
    "    # Boucle à travers chaque split\n",
    "for train_indices, test_indices in folds:\n",
    "        # Séparer les données en train et test en utilisant les indices\n",
    "        X_train, X_test = X[train_indices], X[test_indices]\n",
    "        y_train, y_test = y[train_indices], y[test_indices]\n",
    "        \n",
    "        # Afficher les dimensions des ensembles pour chaque fold\n",
    "        print(f\"Fold {fold}:\")\n",
    "        print(f\"  Train set: X_train shape = {X_train.shape}, y_train shape = {y_train.shape}\")\n",
    "        print(f\"  Test set: X_test shape = {X_test.shape}, y_test shape = {y_test.shape}\")\n",
    "        print(\"-\" * 40)\n",
    "        \n",
    "        fold += 1"
   ]
  },
  {
   "cell_type": "code",
   "execution_count": 830,
   "metadata": {},
   "outputs": [],
   "source": [
    "X = df[['Year', 'Month', 'Day', 'Hour']].values\n",
    "y = df['PM2.5'].values\n",
    "\n",
    "def calculer_min_max(donnees):\n",
    "    \"\"\"\n",
    "    Calcule le minimum et le maximum d'une série de données\n",
    "    \"\"\"\n",
    "    min_val = min(donnees)\n",
    "    max_val = max(donnees)\n",
    "    return min_val, max_val\n",
    "\n",
    "def normaliser_donnees_minmax(donnees):\n",
    "    \"\"\"\n",
    "    Normalisation min-max : (x - min) / (max - min)\n",
    "    Ramène les données entre 0 et 1\n",
    "    \"\"\"\n",
    "    min_val, max_val = calculer_min_max(donnees)\n",
    "    \n",
    "    # Si toutes les valeurs sont identiques, retourner des zéros\n",
    "    if max_val == min_val:\n",
    "        return [0 for _ in donnees]\n",
    "        \n",
    "    # Normalisation min-max\n",
    "    return [(x - min_val) / (max_val - min_val) for x in donnees]\n",
    "\n",
    "# Normaliser chaque colonne de X\n",
    "X_normalized = np.array([normaliser_donnees_minmax(X[:, i]) for i in range(X.shape[1])]).T\n",
    "\n",
    "# Normaliser y (la cible) si nécessaire\n",
    "y_normalized = normaliser_donnees_minmax(y)"
   ]
  },
  {
   "cell_type": "code",
   "execution_count": 831,
   "metadata": {},
   "outputs": [],
   "source": [
    "def linear_regression(X, y):\n",
    "    X_b = np.hstack([X, np.ones((X.shape[0], 1))])  # Ajouter la colonne de biais\n",
    "    theta = np.linalg.inv(X_b.T @ X_b) @ X_b.T @ y  # Formule analytique\n",
    "    return theta\n",
    "def predict(X, theta):\n",
    "    X_b = np.hstack([X, np.ones((X.shape[0], 1))])\n",
    "    return X_b @ theta"
   ]
  },
  {
   "cell_type": "code",
   "execution_count": 832,
   "metadata": {},
   "outputs": [],
   "source": [
    "# Fonction de prédiction\n",
    "def predict(X, theta):\n",
    "    X_b = np.hstack([X, np.ones((X.shape[0], 1))])\n",
    "    return X_b @ theta\n",
    "\n",
    "# Calcul du MSE (Mean Squared Error)\n",
    "def mean_squared_error(y_true, y_pred):\n",
    "    return np.mean((y_true - y_pred) ** 2)\n",
    "\n",
    "# Calcul du RMSE (Root Mean Squared Error)\n",
    "def root_mean_squared_error(y_true, y_pred):\n",
    "    return np.sqrt(mean_squared_error(y_true, y_pred))"
   ]
  },
  {
   "cell_type": "code",
   "execution_count": 833,
   "metadata": {},
   "outputs": [
    {
     "name": "stdout",
     "output_type": "stream",
     "text": [
      "MSE: 587.9210\n",
      "RMSE: 24.2471\n"
     ]
    },
    {
     "data": {
      "image/png": "[encoded data removed]",
      "text/plain": [
       "<Figure size 640x480 with 1 Axes>"
      ]
     },
     "metadata": {},
     "output_type": "display_data"
    }
   ],
   "source": [
    "# Appliquer la régression linéaire sur tes données\n",
    "X = df['Year'].values.reshape(-1, 1)  # Assurer que X est une matrice 2D\n",
    "y = df['PM2.5'].values  # Valeurs PM2.5\n",
    "\n",
    "# Appliquer la régression linéaire\n",
    "theta = linear_regression(X, y)\n",
    "\n",
    "# Prédictions\n",
    "y_pred = predict(X, theta)\n",
    "\n",
    "# Calcul du MSE et RMSE\n",
    "mse = mean_squared_error(y, y_pred)\n",
    "rmse = root_mean_squared_error(y, y_pred)\n",
    "\n",
    "print(f'MSE: {mse:.4f}')\n",
    "print(f'RMSE: {rmse:.4f}')\n",
    "\n",
    "# Affichage de la droite de régression\n",
    "plt.scatter(X, y, color='blue', label='Données')\n",
    "plt.plot(X, y_pred, color='red', label='Droite de régression')\n",
    "plt.xlabel('Année')\n",
    "plt.ylabel('PM2.5')\n",
    "plt.legend()\n",
    "plt.show()"
   ]
  }
 ],
 "metadata": {
  "kernelspec": {
   "display_name": "Python 3",
   "language": "python",
   "name": "python3"
  },
  "language_info": {
   "codemirror_mode": {
    "name": "ipython",
    "version": 3
   },
   "file_extension": ".py",
   "mimetype": "text/x-python",
   "name": "python",
   "nbconvert_exporter": "python",
   "pygments_lexer": "ipython3",
   "version": "3.12.7"
  }
 },
 "nbformat": 4,
 "nbformat_minor": 2
}
